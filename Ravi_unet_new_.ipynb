{
  "nbformat": 4,
  "nbformat_minor": 0,
  "metadata": {
    "colab": {
      "name": "Ravi_unet_new_.ipynb",
      "version": "0.3.2",
      "provenance": [],
      "collapsed_sections": [],
      "include_colab_link": true
    },
    "kernelspec": {
      "name": "python3",
      "display_name": "Python 3"
    },
    "accelerator": "GPU"
  },
  "cells": [
    {
      "cell_type": "markdown",
      "metadata": {
        "id": "view-in-github",
        "colab_type": "text"
      },
      "source": [
        "<a href=\"https://colab.research.google.com/github/Ravimk07/Tensorflow_colab_examples/blob/master/Ravi_unet_new_.ipynb\" target=\"_parent\"><img src=\"https://colab.research.google.com/assets/colab-badge.svg\" alt=\"Open In Colab\"/></a>"
      ]
    },
    {
      "metadata": {
        "id": "Q6QgoCq1SMNj",
        "colab_type": "code",
        "outputId": "6d5fa392-22ee-451a-d195-411801742ab9",
        "colab": {
          "base_uri": "https://localhost:8080/",
          "height": 34
        }
      },
      "cell_type": "code",
      "source": [
        "import os\n",
        "os.getcwd()"
      ],
      "execution_count": 0,
      "outputs": [
        {
          "output_type": "execute_result",
          "data": {
            "text/plain": [
              "'/content'"
            ]
          },
          "metadata": {
            "tags": []
          },
          "execution_count": 1
        }
      ]
    },
    {
      "metadata": {
        "id": "XHALRYjISTCe",
        "colab_type": "code",
        "colab": {}
      },
      "cell_type": "code",
      "source": [
        "import os\n",
        "import glob\n",
        "import zipfile\n",
        "import functools\n",
        "import sys, os, time\n",
        "import itertools\n",
        "import math, random\n",
        "import glob\n",
        "import tensorflow as tf\n",
        "import numpy as np\n",
        "import cv2\n",
        "import matplotlib.pyplot as plt\n",
        "from IPython.display import Image, display\n",
        "import warnings"
      ],
      "execution_count": 0,
      "outputs": []
    },
    {
      "metadata": {
        "id": "LVtmw0KZzoHP",
        "colab_type": "code",
        "outputId": "e182644a-7daf-4358-b5a3-63f3b047a612",
        "colab": {
          "base_uri": "https://localhost:8080/",
          "height": 34
        }
      },
      "cell_type": "code",
      "source": [
        "os.listdir('/content')"
      ],
      "execution_count": 0,
      "outputs": [
        {
          "output_type": "execute_result",
          "data": {
            "text/plain": [
              "['.config', 'ravi-Net.zip', 'sample_data']"
            ]
          },
          "metadata": {
            "tags": []
          },
          "execution_count": 4
        }
      ]
    },
    {
      "metadata": {
        "id": "jVMnhBiwaEmg",
        "colab_type": "code",
        "colab": {}
      },
      "cell_type": "code",
      "source": [
        "# This is for extracting the files\n",
        "import zipfile\n",
        "path_to_zip_file = '/content/ravi-Net.zip'\n",
        "directory_to_extract_to = '/content/'\n",
        "zip_ref = zipfile.ZipFile(path_to_zip_file, 'r')\n",
        "zip_ref.extractall(directory_to_extract_to)\n",
        "zip_ref.close()"
      ],
      "execution_count": 0,
      "outputs": []
    },
    {
      "metadata": {
        "id": "tGBiTvMDafJn",
        "colab_type": "code",
        "outputId": "cfb0823a-a436-44f7-bb5b-de18569b940b",
        "colab": {
          "base_uri": "https://localhost:8080/",
          "height": 119
        }
      },
      "cell_type": "code",
      "source": [
        "os.listdir('/content/ravi-Net')"
      ],
      "execution_count": 0,
      "outputs": [
        {
          "output_type": "execute_result",
          "data": {
            "text/plain": [
              "['patches_masks_test.npy',\n",
              " 'sadhguruRavi-Net.ipynb',\n",
              " 'patches_imgs_test.npy',\n",
              " 'patches_masks_train_flatten.npy',\n",
              " 'patches_imgs_train.npy',\n",
              " 'patches_masks_test_flatten.npy']"
            ]
          },
          "metadata": {
            "tags": []
          },
          "execution_count": 6
        }
      ]
    },
    {
      "metadata": {
        "id": "Z4XOEuHxT1gu",
        "colab_type": "code",
        "outputId": "929055a2-680e-47ac-f55e-d2d5e124c202",
        "colab": {
          "base_uri": "https://localhost:8080/",
          "height": 34
        }
      },
      "cell_type": "code",
      "source": [
        "import os\n",
        "# os.environ[\"CUDA_DEVICE_ORDER\"] = \"PCI_BUS_ID\" \n",
        "os.environ[\"CUDA_VISIBLE_DEVICES\"] = \"1\"\n",
        "\n",
        "from keras.models import Model\n",
        "from keras.layers import Input, concatenate, Conv2D, MaxPooling2D, UpSampling2D, Reshape, core, Dropout\n",
        "from keras.optimizers import Adam\n",
        "from keras.callbacks import ModelCheckpoint, LearningRateScheduler\n",
        "from keras import backend as K\n",
        "from keras.utils.vis_utils import plot_model\n",
        "from keras.optimizers import SGD\n",
        "from keras.models import model_from_json\n",
        "\n",
        "#scikit learn\n",
        "from sklearn.metrics import roc_curve\n",
        "from sklearn.metrics import roc_auc_score\n",
        "from sklearn.metrics import confusion_matrix\n",
        "from sklearn.metrics import precision_recall_curve\n",
        "from sklearn.metrics import jaccard_similarity_score\n",
        "from sklearn.metrics import f1_score\n",
        "\n",
        "import scipy.ndimage as ndimage\n",
        "import numpy as np\n",
        "from PIL import Image\n",
        "import collections\n",
        "from matplotlib import pyplot as plt\n",
        "%matplotlib inline  \n",
        "\n",
        "name_experiment = 'sadhguru_ravi_unet'\n",
        "\n",
        "def pred_to_imgs(pred, patch_height, patch_width, mode=\"original\"):\n",
        "    # TODO: pred.shape = 702, 2304, 4\n",
        "    assert (len(pred.shape)==3)  \n",
        "    assert (pred.shape[2]==4 )  \n",
        "    pred_images = np.empty((pred.shape[0],pred.shape[1]))  \n",
        "    if mode==\"original\":\n",
        "        for i in range(pred.shape[0]):\n",
        "            for pix in range(pred.shape[1]):\n",
        "                pred_images[i,pix]=pred[i,pix,1] \n",
        "    elif mode==\"threshold\":\n",
        "        for i in range(pred.shape[0]):\n",
        "            for pix in range(pred.shape[1]):\n",
        "                if pred[i,pix,1]>=0.5:\n",
        "                    pred_images[i,pix]=1\n",
        "                else:\n",
        "                    pred_images[i,pix]=0\n",
        "    else:\n",
        "        print(\"mode \" +str(mode) +\" not recognized, it can be 'original' or 'threshold'\")\n",
        "        exit()\n",
        "    pred_images = np.reshape(pred_images,(pred_images.shape[0],1, patch_height, patch_width))\n",
        "    return pred_images\n",
        "\n",
        "\n",
        "def pred_to_imgs(pred, patch_height, patch_width, mode=\"original\"):\n",
        "    assert (len(pred.shape)==3)  \n",
        "    assert (pred.shape[2]==4 ) \n",
        "    pred_images = np.empty((pred.shape[0],pred.shape[1]))  \n",
        "    if mode==\"original\":\n",
        "        for i in range(pred.shape[0]):\n",
        "            for pix in range(pred.shape[1]):\n",
        "                pred_images[i,pix]=pred[i,pix,1]\n",
        "    elif mode==\"threshold\":\n",
        "        for i in range(pred.shape[0]):\n",
        "            for pix in range(pred.shape[1]):\n",
        "                pred_images[i,pix]=np.where(pred[i,pix,:]==np.max(pred[i,pix,:]))[0][0]\n",
        "    else:\n",
        "        print(\"mode \" +str(mode) +\" not recognized, it can be 'original' or 'threshold'\")\n",
        "        exit()\n",
        "    pred_images = np.reshape(pred_images,(pred_images.shape[0],1, patch_height, patch_width))\n",
        "    return pred_images\n",
        "\n",
        "\n",
        "#Recompone the full images with the patches\n",
        "def recompone(data,N_h,N_w):\n",
        "    assert (data.shape[1]==1 or data.shape[1]==3) \n",
        "    assert(len(data.shape)==4)\n",
        "    N_pacth_per_img = N_w*N_h\n",
        "    print('data.shape: ',data.shape)\n",
        "    print('N_pacth_per_img: ', N_pacth_per_img)\n",
        "    assert(data.shape[0]%N_pacth_per_img == 0)\n",
        "    N_full_imgs = data.shape[0]/N_pacth_per_img\n",
        "    patch_h = data.shape[2]\n",
        "    patch_w = data.shape[3]\n",
        "    N_pacth_per_img = N_w*N_h\n",
        "    #define and start full recompone\n",
        "    full_recomp = np.empty((int(N_full_imgs),data.shape[1],int(N_h*patch_h),int(N_w*patch_w)))\n",
        "    k = 0  #iter full img\n",
        "    s = 0  #iter single patch\n",
        "    while (s<data.shape[0]):\n",
        "        #recompone one:\n",
        "        single_recon = np.empty((data.shape[1],N_h*patch_h,N_w*patch_w))\n",
        "        for h in range(N_h):\n",
        "            for w in range(N_w):\n",
        "                single_recon[:,h*patch_h:(h*patch_h)+patch_h,w*patch_w:(w*patch_w)+patch_w]=data[s]\n",
        "                s+=1\n",
        "        full_recomp[k]=single_recon\n",
        "        k+=1\n",
        "    assert (k==N_full_imgs)\n",
        "    return full_recomp\n",
        "\n",
        "#Define the neural network\n",
        "def get_unet(n_ch,patch_height,patch_width):\n",
        "    inputs = Input(shape=(n_ch,patch_height,patch_width))\n",
        "    conv1 = Conv2D(32, (3, 3), activation='relu', padding='same',data_format='channels_first')(inputs)\n",
        "    conv1 = Dropout(0.2)(conv1)\n",
        "    conv1 = Conv2D(32, (3, 3), activation='relu', padding='same',data_format='channels_first')(conv1)\n",
        "    pool1 = MaxPooling2D((2, 2))(conv1)\n",
        "    #\n",
        "    conv2 = Conv2D(64, (3, 3), activation='relu', padding='same',data_format='channels_first')(pool1)\n",
        "    conv2 = Dropout(0.2)(conv2)\n",
        "    conv2 = Conv2D(64, (3, 3), activation='relu', padding='same',data_format='channels_first')(conv2)\n",
        "    pool2 = MaxPooling2D((2, 2))(conv2)\n",
        "    #\n",
        "    conv3 = Conv2D(128, (3, 3), activation='relu', padding='same',data_format='channels_first')(pool2)\n",
        "    conv3 = Dropout(0.2)(conv3)\n",
        "    conv3 = Conv2D(128, (3, 3), activation='relu', padding='same',data_format='channels_first')(conv3)\n",
        "\n",
        "    up1 = UpSampling2D(size=(2, 2))(conv3)\n",
        "    up1 = concatenate([conv2,up1],axis=1)\n",
        "    conv4 = Conv2D(64, (3, 3), activation='relu', padding='same',data_format='channels_first')(up1)\n",
        "    conv4 = Dropout(0.2)(conv4)\n",
        "    conv4 = Conv2D(64, (3, 3), activation='relu', padding='same',data_format='channels_first')(conv4)\n",
        "    #\n",
        "    up2 = UpSampling2D(size=(2, 2))(conv4)\n",
        "    up2 = concatenate([conv1,up2], axis=1)\n",
        "    conv5 = Conv2D(32, (3, 3), activation='relu', padding='same',data_format='channels_first')(up2)\n",
        "    conv5 = Dropout(0.2)(conv5)\n",
        "    conv5 = Conv2D(32, (3, 3), activation='relu', padding='same',data_format='channels_first')(conv5)\n",
        "    #\n",
        "    conv6 = Conv2D(n_classes, (1, 1), activation='relu',padding='same',data_format='channels_first')(conv5)\n",
        "    conv6 = core.Reshape((n_classes,patch_height*patch_width))(conv6)\n",
        "    conv6 = core.Permute((2,1))(conv6)\n",
        "    ############\n",
        "    conv7 = core.Activation('softmax')(conv6)\n",
        "\n",
        "    model = Model(input=inputs, output=conv7)\n",
        "\n",
        "    # sgd = SGD(lr=0.01, decay=1e-6, momentum=0.3, nesterov=False)\n",
        "    model.compile(optimizer='sgd', loss='categorical_crossentropy',metrics=['accuracy'])\n",
        "\n",
        "    return model\n",
        "\n",
        "#return only the pixels contained in the FOV, for both images and masks\n",
        "def pred_only_FOV(data_imgs,data_masks):\n",
        "    assert (len(data_imgs.shape)==4 and len(data_masks.shape)==4)  #4D arrays\n",
        "    assert (data_imgs.shape[0]==data_masks.shape[0])\n",
        "    assert (data_imgs.shape[2]==data_masks.shape[2])\n",
        "    assert (data_imgs.shape[3]==data_masks.shape[3])\n",
        "    assert (data_imgs.shape[1]==1 and data_masks.shape[1]==1)  #check the channel is 1\n",
        "    height = data_imgs.shape[2]\n",
        "    width = data_imgs.shape[3]\n",
        "    new_pred_imgs = []\n",
        "    new_pred_masks = []\n",
        "    for i in range(data_imgs.shape[0]):  #loop over the full images\n",
        "        for x in range(width):\n",
        "            for y in range(height):\n",
        "                new_pred_imgs.append(data_imgs[i,:,y,x])\n",
        "                new_pred_masks.append(data_masks[i,:,y,x])\n",
        "    new_pred_imgs = np.asarray(new_pred_imgs)\n",
        "    new_pred_masks = np.asarray(new_pred_masks)\n",
        "    return new_pred_imgs, new_pred_masks\n"
      ],
      "execution_count": 0,
      "outputs": [
        {
          "output_type": "stream",
          "text": [
            "Using TensorFlow backend.\n"
          ],
          "name": "stderr"
        }
      ]
    },
    {
      "metadata": {
        "id": "CA70SVZjPYFY",
        "colab_type": "code",
        "outputId": "7ebd0626-a4f0-45cb-c039-bce42a17e3c9",
        "colab": {
          "base_uri": "https://localhost:8080/",
          "height": 88
        }
      },
      "cell_type": "code",
      "source": [
        "n_classes = 4\n",
        "N_epochs = 10\n",
        "batch_size = 8\n",
        "\n",
        "filename = '/content/'+name_experiment+'/'+\"sample_input_imgs\"\n",
        "if not os.path.exists(filename):\n",
        "    os.makedirs(filename)\n",
        "    \n",
        "#=========== Construct and save the model arcitecture =====\n",
        "n_ch = 3\n",
        "patch_height = 48\n",
        "patch_width = 48\n",
        "model = get_unet(n_ch, patch_height, patch_width)  #the U-net model\n",
        "print(\"Check: final output of the network:\")\n",
        "print(model.output_shape)\n",
        "plot_model(model, to_file='./'+name_experiment+'/'+name_experiment + '_model.png',show_shapes=True)   #check how the model looks like\n",
        "json_string = model.to_json()\n",
        "open('/content/'+name_experiment+'/'+name_experiment +'_architecture.json', 'w').write(json_string)\n",
        "\n",
        "checkpointer = ModelCheckpoint(filepath='./'+name_experiment+'/'+name_experiment +'_best_weights.h5', verbose=1, monitor='val_loss', mode='auto', save_best_only=True) #save at each epoch if the validation decreased"
      ],
      "execution_count": 0,
      "outputs": [
        {
          "output_type": "stream",
          "text": [
            "/usr/local/lib/python3.6/dist-packages/ipykernel_launcher.py:136: UserWarning: Update your `Model` call to the Keras 2 API: `Model(inputs=Tensor(\"in..., outputs=Tensor(\"ac...)`\n"
          ],
          "name": "stderr"
        },
        {
          "output_type": "stream",
          "text": [
            "Check: final output of the network:\n",
            "(None, 2304, 4)\n"
          ],
          "name": "stdout"
        }
      ]
    },
    {
      "metadata": {
        "id": "46bxT2bwPfnY",
        "colab_type": "code",
        "colab": {}
      },
      "cell_type": "code",
      "source": [
        "patches_imgs_train=np.load('/content/ravi-Net/patches_imgs_train.npy')\n",
        "patches_masks_train_flatten=np.load('/content/ravi-Net/patches_masks_train_flatten.npy')\n",
        "\n",
        "patches_imgs_test=np.load('/content/ravi-Net/patches_imgs_test.npy')\n",
        "patches_masks_test_flatten=np.load('/content/ravi-Net/patches_masks_test_flatten.npy')\n",
        "patches_masks_test=np.load('/content/ravi-Net/patches_masks_test.npy')"
      ],
      "execution_count": 0,
      "outputs": []
    },
    {
      "metadata": {
        "id": "xi0uU6BEP3uh",
        "colab_type": "code",
        "outputId": "5d10b4b0-a0ae-4633-c764-b2e6790f8e09",
        "colab": {
          "base_uri": "https://localhost:8080/",
          "height": 207
        }
      },
      "cell_type": "code",
      "source": [
        "#============  Training ==================================\n",
        "history = model.fit(patches_imgs_train, \n",
        "                    patches_masks_train_flatten, \n",
        "                    epochs=N_epochs, \n",
        "                    batch_size=batch_size, \n",
        "                    verbose=2, shuffle=True,  \n",
        "                    validation_data=(patches_imgs_test, patches_masks_test_flatten), \n",
        "                    callbacks=[checkpointer])\n",
        "# validation_split=0.1,\n",
        "# validation_data=(patches_imgs_test, patches_masks_test_flatten), "
      ],
      "execution_count": 0,
      "outputs": [
        {
          "output_type": "stream",
          "text": [
            "Train on 8877 samples, validate on 702 samples\n",
            "Epoch 1/10\n",
            " - 2173s - loss: 1.3910 - acc: 0.2400 - val_loss: 1.3863 - val_acc: 0.4113\n",
            "\n",
            "Epoch 00001: val_loss improved from inf to 1.38629, saving model to ./sadhguru_ravi_unet/sadhguru_ravi_unet_best_weights.h5\n",
            "Epoch 2/10\n",
            " - 2253s - loss: 1.3863 - acc: 0.2398 - val_loss: 1.3863 - val_acc: 0.4113\n",
            "\n",
            "Epoch 00002: val_loss did not improve from 1.38629\n",
            "Epoch 3/10\n"
          ],
          "name": "stdout"
        }
      ]
    },
    {
      "metadata": {
        "id": "wpa0nISAq0p4",
        "colab_type": "code",
        "outputId": "6c5ffa97-e06e-4f3e-8636-07f1b498b33a",
        "colab": {
          "base_uri": "https://localhost:8080/",
          "height": 231
        }
      },
      "cell_type": "code",
      "source": [
        "acc = history.history['acc']\n",
        "val_acc = history.history['val_acc']\n",
        "\n",
        "epochs_ = range(N_epochs)\n",
        "plt.figure()\n",
        "plt.plot(epochs_, acc, 'bo', label='Training accuracy')\n",
        "plt.plot(epochs_, val_acc, 'b', label='Validation accuracy')\n",
        "plt.title('Training and validation accuracy')\n",
        "plt.legend()\n",
        "plt.show()"
      ],
      "execution_count": 0,
      "outputs": [
        {
          "output_type": "error",
          "ename": "NameError",
          "evalue": "ignored",
          "traceback": [
            "\u001b[0;31m---------------------------------------------------------------------------\u001b[0m",
            "\u001b[0;31mNameError\u001b[0m                                 Traceback (most recent call last)",
            "\u001b[0;32m<ipython-input-9-e5a14ac9e1ed>\u001b[0m in \u001b[0;36m<module>\u001b[0;34m()\u001b[0m\n\u001b[0;32m----> 1\u001b[0;31m \u001b[0macc\u001b[0m \u001b[0;34m=\u001b[0m \u001b[0mhistory\u001b[0m\u001b[0;34m.\u001b[0m\u001b[0mhistory\u001b[0m\u001b[0;34m[\u001b[0m\u001b[0;34m'acc'\u001b[0m\u001b[0;34m]\u001b[0m\u001b[0;34m\u001b[0m\u001b[0;34m\u001b[0m\u001b[0m\n\u001b[0m\u001b[1;32m      2\u001b[0m \u001b[0mval_acc\u001b[0m \u001b[0;34m=\u001b[0m \u001b[0mhistory\u001b[0m\u001b[0;34m.\u001b[0m\u001b[0mhistory\u001b[0m\u001b[0;34m[\u001b[0m\u001b[0;34m'val_acc'\u001b[0m\u001b[0;34m]\u001b[0m\u001b[0;34m\u001b[0m\u001b[0;34m\u001b[0m\u001b[0m\n\u001b[1;32m      3\u001b[0m \u001b[0;34m\u001b[0m\u001b[0m\n\u001b[1;32m      4\u001b[0m \u001b[0mepochs_\u001b[0m \u001b[0;34m=\u001b[0m \u001b[0mrange\u001b[0m\u001b[0;34m(\u001b[0m\u001b[0mN_epochs\u001b[0m\u001b[0;34m)\u001b[0m\u001b[0;34m\u001b[0m\u001b[0;34m\u001b[0m\u001b[0m\n\u001b[1;32m      5\u001b[0m \u001b[0mplt\u001b[0m\u001b[0;34m.\u001b[0m\u001b[0mfigure\u001b[0m\u001b[0;34m(\u001b[0m\u001b[0;34m)\u001b[0m\u001b[0;34m\u001b[0m\u001b[0;34m\u001b[0m\u001b[0m\n",
            "\u001b[0;31mNameError\u001b[0m: name 'history' is not defined"
          ]
        }
      ]
    },
    {
      "metadata": {
        "id": "gjmfFlPBULgP",
        "colab_type": "code",
        "colab": {}
      },
      "cell_type": "code",
      "source": [
        ""
      ],
      "execution_count": 0,
      "outputs": []
    }
  ]
}