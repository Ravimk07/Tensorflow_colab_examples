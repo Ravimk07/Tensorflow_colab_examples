{
  "nbformat": 4,
  "nbformat_minor": 0,
  "metadata": {
    "colab": {
      "name": "Copy of Test_segmentation.ipynb",
      "version": "0.3.2",
      "provenance": [],
      "toc_visible": true,
      "include_colab_link": true
    },
    "kernelspec": {
      "name": "python3",
      "display_name": "Python 3"
    }
  },
  "cells": [
    {
      "cell_type": "markdown",
      "metadata": {
        "id": "view-in-github",
        "colab_type": "text"
      },
      "source": [
        "<a href=\"https://colab.research.google.com/github/Ravimk07/Tensorflow_colab_examples/blob/master/Copy_of_Test_segmentation.ipynb\" target=\"_parent\"><img src=\"https://colab.research.google.com/assets/colab-badge.svg\" alt=\"Open In Colab\"/></a>"
      ]
    },
    {
      "metadata": {
        "id": "ANURGLFt2w61",
        "colab_type": "code",
        "colab": {}
      },
      "cell_type": "code",
      "source": [
        "import os\n",
        "import glob\n",
        "import zipfile\n",
        "import functools"
      ],
      "execution_count": 0,
      "outputs": []
    },
    {
      "metadata": {
        "id": "ztMOQ16_AB4H",
        "colab_type": "code",
        "colab": {}
      },
      "cell_type": "code",
      "source": [
        "# load the data by uploding on drive\n",
        "os.getcwd()"
      ],
      "execution_count": 0,
      "outputs": []
    },
    {
      "metadata": {
        "id": "dNHZMDwCADr_",
        "colab_type": "code",
        "colab": {}
      },
      "cell_type": "code",
      "source": [
        "from google.colab import files\n",
        "uploaded = files.upload()"
      ],
      "execution_count": 0,
      "outputs": []
    },
    {
      "metadata": {
        "id": "uKpKV6TmAFzX",
        "colab_type": "code",
        "colab": {}
      },
      "cell_type": "code",
      "source": [
        "for name, data in uploaded.items():\n",
        "  with open(name, 'wb') as f:\n",
        "    f.write(data)\n",
        "    print('Saved file', name)"
      ],
      "execution_count": 0,
      "outputs": []
    },
    {
      "metadata": {
        "id": "pbyVyo7EAHoP",
        "colab_type": "code",
        "colab": {}
      },
      "cell_type": "code",
      "source": [
        "os.listdir('/content/')"
      ],
      "execution_count": 0,
      "outputs": []
    },
    {
      "metadata": {
        "id": "1SAPq1JgAJn3",
        "colab_type": "code",
        "colab": {}
      },
      "cell_type": "code",
      "source": [
        "# This is for extracting the files\n",
        "import zipfile\n",
        "path_to_zip_file = 'patches_256x256.zip'\n",
        "directory_to_extract_to = ''\n",
        "zip_ref = zipfile.ZipFile(path_to_zip_file, 'r')\n",
        "zip_ref.extractall(directory_to_extract_to)\n",
        "zip_ref.close()"
      ],
      "execution_count": 0,
      "outputs": []
    },
    {
      "metadata": {
        "id": "yfDlyHL4AMTm",
        "colab_type": "code",
        "colab": {}
      },
      "cell_type": "code",
      "source": [
        "os.listdir('/content/')"
      ],
      "execution_count": 0,
      "outputs": []
    },
    {
      "metadata": {
        "id": "H1qHyCCDAOHO",
        "colab_type": "code",
        "colab": {}
      },
      "cell_type": "code",
      "source": [
        "os.listdir('/content/patches_256x256')"
      ],
      "execution_count": 0,
      "outputs": []
    },
    {
      "metadata": {
        "id": "laTd5OL8APqm",
        "colab_type": "code",
        "colab": {}
      },
      "cell_type": "code",
      "source": [
        "import pandas as pd\n",
        "import numpy as np\n",
        "import matplotlib.pyplot as plt\n",
        "import glob\n",
        "\n",
        "from tqdm import tqdm_notebook, tnrange\n",
        "from itertools import chain\n",
        "from skimage.io import imread, imshow, concatenate_images\n",
        "from skimage.transform import resize\n",
        "from skimage.morphology import label\n",
        "from sklearn.model_selection import train_test_split\n",
        "\n",
        "import tensorflow as tf\n",
        "from keras.models import Model, load_model\n",
        "from keras.layers import Input, BatchNormalization, Activation, Dense, Dropout\n",
        "from keras.layers.core import Lambda, RepeatVector, Reshape\n",
        "from keras.layers.convolutional import Conv2D, Conv2DTranspose\n",
        "from keras.layers.pooling import MaxPooling2D, GlobalMaxPool2D\n",
        "from keras.layers.merge import concatenate, add\n",
        "from keras.callbacks import EarlyStopping, ModelCheckpoint, ReduceLROnPlateau\n",
        "from keras.optimizers import Adam\n",
        "from keras.preprocessing.image import ImageDataGenerator, array_to_img, img_to_array, load_img\n",
        "from keras.optimizers import Adam"
      ],
      "execution_count": 0,
      "outputs": []
    },
    {
      "metadata": {
        "id": "laG8cUONASeG",
        "colab_type": "code",
        "colab": {}
      },
      "cell_type": "code",
      "source": [
        "path_train = '/content/patches_256x256' \n",
        "im_height = 256\n",
        "im_width = 256"
      ],
      "execution_count": 0,
      "outputs": []
    },
    {
      "metadata": {
        "id": "m-FnSEtwAVVm",
        "colab_type": "code",
        "colab": {}
      },
      "cell_type": "code",
      "source": [
        "def get_data(path, train=True):\n",
        "    ids = glob.glob(os.path.join(path, \"images\", '*.jpg'))\n",
        "    ids = [os.path.basename(i)[:-4] for i in ids] \n",
        "    X = np.zeros((len(ids), im_height, im_width, 3), dtype=np.float32)\n",
        "    if train:\n",
        "        y = np.zeros((len(ids), im_height, im_width, 1), dtype=np.float32)\n",
        "    print('Getting and resizing images ... ')\n",
        "    for n, id_ in tqdm_notebook(enumerate(ids), total=len(ids)):\n",
        "        # Load images\n",
        "        x_img = imread(os.path.join(path, 'images', id_ + '.jpg'))\n",
        "        #x_img = img.pixel_array\n",
        "        x_img = resize(x_img, (256, 256, 3), mode='constant', preserve_range=True)\n",
        "\n",
        "        # Load masks\n",
        "        if train:\n",
        "            mask = img_to_array(load_img(os.path.join(path, 'gt', id_ + '.png'), grayscale=True))\n",
        "            mask = resize(mask, (256, 256, 1), mode='constant', preserve_range=True)\n",
        "\n",
        "        # Save images\n",
        "        X[n, ..., :] = x_img.squeeze() / 255\n",
        "        if train:\n",
        "            y[n] = mask / 255\n",
        "    print('Done!')\n",
        "    if train:\n",
        "        return X, y\n",
        "    else:\n",
        "        return X\n",
        "    \n",
        "X, y = get_data(path_train, train=True)"
      ],
      "execution_count": 0,
      "outputs": []
    },
    {
      "metadata": {
        "id": "yxR384VnAXnO",
        "colab_type": "code",
        "colab": {}
      },
      "cell_type": "code",
      "source": [
        "from keras.models import Input, Model\n",
        "from keras.layers import Conv2D, Concatenate, MaxPooling2D\n",
        "from keras.layers import UpSampling2D, Dropout, BatchNormalization"
      ],
      "execution_count": 0,
      "outputs": []
    },
    {
      "metadata": {
        "id": "l475WwvXAbLv",
        "colab_type": "code",
        "colab": {}
      },
      "cell_type": "code",
      "source": [
        "def conv_block(model, dim, activation = 'relu', batch_norm = 'True', residual = 'True', drate = 0.5):\n",
        "\tn = Conv2D(dim, 3, activation = activation, padding='same', kernel_initializer = 'he_normal')(model)\n",
        "\tn = BatchNormalization()(n) if batch_norm else n\n",
        "\tn = Dropout(drate)(n) if drate else n\n",
        "\tn = Conv2D(dim, 3, activation = activation, padding='same', kernel_initializer = 'he_normal')(n)\n",
        "\tn = BatchNormalization()(n) if batch_norm else n\n",
        "\treturn Concatenate()([model, n]) if residual else n\n",
        "\n",
        "def level_block(model, dim, depth, inc, acti, drate, batch_norm, maxpool, upconv, residual):\n",
        "\tif depth > 0:\n",
        "\t\tn = conv_block(model, dim, acti, batch_norm, residual)\n",
        "\t\tmodel = MaxPooling2D()(n) if maxpool else Conv2D(dim, 3, strides=2, padding='same')(n)\n",
        "\t\tmodel = level_block(model, int(inc*dim), depth-1, inc, acti, drate, batch_norm, maxpool, upconv, residual)\n",
        "\t\tif upconv:\n",
        "\t\t\tmodel = UpSampling2D()(model)\n",
        "\t\t\tmodel = Conv2D(dim, 2, activation=acti, padding='same', kernel_initializer = 'he_normal')(model)\n",
        "\t\telse:\n",
        "\t\t\tmodel = Conv2DTranspose(dim, 3, strides=2, activation=acti, padding='same', kernel_initializer = 'he_normal')(model)\n",
        "\t\tn = Concatenate()([n, model])\n",
        "\t\tmodel = conv_block(n, dim, acti, batch_norm, residual)\n",
        "\telse:\n",
        "\t\tmodel = conv_block(model, dim, acti, batch_norm, residual, drate)\n",
        "\treturn model\n",
        "\n",
        "def UNet(img_shape, out_ch = 1, start_ch = 64, depth = 4, inc_rate = 2, activation = 'relu', \n",
        "\t\t dropout = 0.5, batchnorm = True, maxpool = True, upconv = True, residual = True):\n",
        "\ti = Input(shape = img_shape)\n",
        "\to = level_block(i, start_ch, depth, inc_rate, activation, dropout, batchnorm, maxpool, upconv, residual)\n",
        "\to = Conv2D(out_ch, 1, activation='sigmoid')(o)\n",
        "\treturn Model(inputs=i, outputs=o)\n",
        "\n",
        "model = UNet((256, 256, 3), out_ch = 1, start_ch = 64, depth = 5, inc_rate = 2, activation = 'relu',\n",
        "             dropout = 0.5, batchnorm = True, maxpool = True, upconv = True, residual = True)"
      ],
      "execution_count": 0,
      "outputs": []
    },
    {
      "metadata": {
        "id": "FQtnON9SAd7n",
        "colab_type": "code",
        "colab": {}
      },
      "cell_type": "code",
      "source": [
        "import gc\n",
        "# Split train and valid\n",
        "X_train, X_valid, y_train, y_valid = train_test_split(X, y, test_size=0.3, random_state=2019)\n",
        "del(X)\n",
        "del(y)\n",
        "gc.collect()"
      ],
      "execution_count": 0,
      "outputs": []
    },
    {
      "metadata": {
        "id": "8NpM4zxBAgOh",
        "colab_type": "code",
        "colab": {}
      },
      "cell_type": "code",
      "source": [
        "print(X_train.shape)\n",
        "print(X_valid.shape)"
      ],
      "execution_count": 0,
      "outputs": []
    },
    {
      "metadata": {
        "id": "nLp91iciAid3",
        "colab_type": "code",
        "colab": {}
      },
      "cell_type": "code",
      "source": [
        "from keras import backend as K\n",
        "\n",
        "def dice_coef(y_true, y_pred, smooth=1):\n",
        "\n",
        "    intersection = K.sum(K.abs(y_true * y_pred), axis=-1)\n",
        "    return (2. * intersection + smooth) / (K.sum(K.square(y_true),-1) + K.sum(K.square(y_pred),-1) + smooth)\n",
        "\n",
        "def dice_coef_loss(y_true, y_pred):\n",
        "    return 1-dice_coef(y_true, y_pred)\n",
        "    \n",
        "model.compile(optimizer='adam', loss = 'binary_crossentropy', metrics=['accuracy', dice_coef_loss])\n",
        "model.summary()"
      ],
      "execution_count": 0,
      "outputs": []
    },
    {
      "metadata": {
        "id": "-FVWnuEDAkuv",
        "colab_type": "code",
        "colab": {}
      },
      "cell_type": "code",
      "source": [
        "from keras.callbacks import TensorBoard\n",
        "\n",
        "callbacks = [\n",
        "    #EarlyStopping(patience=10, verbose=1),\n",
        "    ReduceLROnPlateau(factor=0.5, patience=3, min_lr=0.000001, verbose=1),\n",
        "    ModelCheckpoint('/content/ravi_model-tgs-salt-dropout0.5-diceloss.h5', verbose=1, save_best_only=True, save_weights_only=True),\n",
        "    TensorBoard(log_dir='/content/logs', histogram_freq=0, batch_size=32, write_graph=True, write_grads=True, write_images=True)\n",
        "]"
      ],
      "execution_count": 0,
      "outputs": []
    },
    {
      "metadata": {
        "id": "Qz7VufO5AoEw",
        "colab_type": "code",
        "colab": {}
      },
      "cell_type": "code",
      "source": [
        "results = model.fit(X_train, y_train, batch_size=2, epochs=50, callbacks=callbacks, shuffle = True,\n",
        "                   validation_data=(X_valid, y_valid))"
      ],
      "execution_count": 0,
      "outputs": []
    }
  ]
}