{
  "nbformat": 4,
  "nbformat_minor": 0,
  "metadata": {
    "colab": {
      "name": "Linear Regression in TensorFlow.ipynb",
      "version": "0.3.2",
      "provenance": [],
      "include_colab_link": true
    },
    "kernelspec": {
      "name": "python3",
      "display_name": "Python 3"
    },
    "accelerator": "GPU"
  },
  "cells": [
    {
      "cell_type": "markdown",
      "metadata": {
        "id": "view-in-github",
        "colab_type": "text"
      },
      "source": [
        "<a href=\"https://colab.research.google.com/github/Ravimk07/Tensorflow_colab_examples/blob/master/Linear_Regression_in_TensorFlow.ipynb\" target=\"_parent\"><img src=\"https://colab.research.google.com/assets/colab-badge.svg\" alt=\"Open In Colab\"/></a>"
      ]
    },
    {
      "metadata": {
        "id": "K1WOJJBaDOGY",
        "colab_type": "code",
        "colab": {}
      },
      "cell_type": "code",
      "source": [
        "import tensorflow as tf\n",
        "import numpy\n",
        "import matplotlib.pyplot as plt\n",
        "rng = numpy.random"
      ],
      "execution_count": 0,
      "outputs": []
    },
    {
      "metadata": {
        "id": "-8Ay6rwSEYTT",
        "colab_type": "code",
        "colab": {}
      },
      "cell_type": "code",
      "source": [
        "# Parameters\n",
        "learning_rate = 0.01\n",
        "training_epochs = 2000\n",
        "display_step = 50"
      ],
      "execution_count": 0,
      "outputs": []
    },
    {
      "metadata": {
        "id": "Xsyfd7E3EbWk",
        "colab_type": "code",
        "colab": {}
      },
      "cell_type": "code",
      "source": [
        "# Training Data\n",
        "train_X = numpy.asarray([3.3,4.4,5.5,6.71,6.93,4.168,9.779,6.182,7.59,2.167,7.042,10.791,5.313,7.997,5.654,9.27,3.1])\n",
        "train_Y = numpy.asarray([1.7,2.76,2.09,3.19,1.694,1.573,3.366,2.596,2.53,1.221,2.827,3.465,1.65,2.904,2.42,2.94,1.3])\n",
        "n_samples = train_X.shape[0]"
      ],
      "execution_count": 0,
      "outputs": []
    },
    {
      "metadata": {
        "id": "OdDOqQbqEeks",
        "colab_type": "code",
        "colab": {}
      },
      "cell_type": "code",
      "source": [
        "# tf Graph Input\n",
        "X = tf.placeholder(\"float\")\n",
        "Y = tf.placeholder(\"float\")"
      ],
      "execution_count": 0,
      "outputs": []
    },
    {
      "metadata": {
        "id": "8oH4OFfKErTL",
        "colab_type": "code",
        "colab": {}
      },
      "cell_type": "code",
      "source": [
        "# Create Model\n",
        "\n",
        "# Set model weights\n",
        "W = tf.Variable(rng.randn(), name=\"weight\")\n",
        "b = tf.Variable(rng.randn(), name=\"bias\")"
      ],
      "execution_count": 0,
      "outputs": []
    },
    {
      "metadata": {
        "id": "S3DZ3-YxEs58",
        "colab_type": "code",
        "colab": {}
      },
      "cell_type": "code",
      "source": [
        "# Construct a linear model\n",
        "activation = tf.add(tf.multiply(X, W), b)"
      ],
      "execution_count": 0,
      "outputs": []
    },
    {
      "metadata": {
        "id": "uNGaV6kbEwQj",
        "colab_type": "code",
        "colab": {}
      },
      "cell_type": "code",
      "source": [
        "# Minimize the squared errors\n",
        "cost = tf.reduce_sum(tf.pow(activation-Y, 2))/(2*n_samples) #L2 loss\n",
        "optimizer = tf.train.GradientDescentOptimizer(learning_rate).minimize(cost) #Gradient descent"
      ],
      "execution_count": 0,
      "outputs": []
    },
    {
      "metadata": {
        "id": "5j5kOAGvFBsE",
        "colab_type": "code",
        "colab": {
          "base_uri": "https://localhost:8080/",
          "height": 88
        },
        "outputId": "37e1a016-3d81-4fd8-9f4c-e2de24209014"
      },
      "cell_type": "code",
      "source": [
        "# Initializing the variables\n",
        "init = tf.initialize_all_variables()"
      ],
      "execution_count": 11,
      "outputs": [
        {
          "output_type": "stream",
          "text": [
            "WARNING:tensorflow:From /usr/local/lib/python3.6/dist-packages/tensorflow/python/util/tf_should_use.py:189: initialize_all_variables (from tensorflow.python.ops.variables) is deprecated and will be removed after 2017-03-02.\n",
            "Instructions for updating:\n",
            "Use `tf.global_variables_initializer` instead.\n"
          ],
          "name": "stdout"
        }
      ]
    },
    {
      "metadata": {
        "id": "plXzQ8D_FFR0",
        "colab_type": "code",
        "colab": {
          "base_uri": "https://localhost:8080/",
          "height": 1061
        },
        "outputId": "eaba7eb5-6b4b-427f-9587-3b600c2b4fe5"
      },
      "cell_type": "code",
      "source": [
        "# Launch the graph\n",
        "with tf.Session() as sess:\n",
        "    sess.run(init)\n",
        "\n",
        "    # Fit all training data\n",
        "    for epoch in range(training_epochs):\n",
        "        for (x, y) in zip(train_X, train_Y):\n",
        "            sess.run(optimizer, feed_dict={X: x, Y: y})\n",
        "\n",
        "        #Display logs per epoch step\n",
        "        if epoch % display_step == 0:\n",
        "            print (\"Epoch:\", '%04d' % (epoch+1), \"cost=\", \\\n",
        "                \"{:.9f}\".format(sess.run(cost, feed_dict={X: train_X, Y:train_Y})), \\\n",
        "                \"W=\", sess.run(W), \"b=\", sess.run(b))\n",
        "\n",
        "    print (\"Optimization Finished!\")\n",
        "    print (\"cost=\", sess.run(cost, feed_dict={X: train_X, Y: train_Y}), \\\n",
        "          \"W=\", sess.run(W), \"b=\", sess.run(b))\n",
        "\n",
        "    #Graphic display\n",
        "    plt.plot(train_X, train_Y, 'ro', label='Original data')\n",
        "    plt.plot(train_X, sess.run(W) * train_X + sess.run(b), label='Fitted line')\n",
        "    plt.legend()\n",
        "    plt.show()"
      ],
      "execution_count": 12,
      "outputs": [
        {
          "output_type": "stream",
          "text": [
            "Epoch: 0001 cost= 9.015050888 W= -0.32780632 b= 0.40367672\n",
            "Epoch: 0051 cost= 0.082175776 W= 0.29003975 b= 0.51049954\n",
            "Epoch: 0101 cost= 0.081573971 W= 0.28763428 b= 0.52780485\n",
            "Epoch: 0151 cost= 0.081041820 W= 0.28537178 b= 0.54408103\n",
            "Epoch: 0201 cost= 0.080571286 W= 0.2832438 b= 0.5593893\n",
            "Epoch: 0251 cost= 0.080155231 W= 0.28124243 b= 0.57378733\n",
            "Epoch: 0301 cost= 0.079787336 W= 0.2793599 b= 0.5873295\n",
            "Epoch: 0351 cost= 0.079462096 W= 0.2775895 b= 0.6000656\n",
            "Epoch: 0401 cost= 0.079174504 W= 0.27592424 b= 0.6120455\n",
            "Epoch: 0451 cost= 0.078920312 W= 0.27435836 b= 0.6233103\n",
            "Epoch: 0501 cost= 0.078695551 W= 0.27288562 b= 0.63390505\n",
            "Epoch: 0551 cost= 0.078496873 W= 0.27150053 b= 0.6438695\n",
            "Epoch: 0601 cost= 0.078321233 W= 0.27019778 b= 0.65324205\n",
            "Epoch: 0651 cost= 0.078165986 W= 0.2689724 b= 0.6620565\n",
            "Epoch: 0701 cost= 0.078028753 W= 0.2678199 b= 0.6703472\n",
            "Epoch: 0751 cost= 0.077907421 W= 0.26673597 b= 0.67814523\n",
            "Epoch: 0801 cost= 0.077800199 W= 0.26571643 b= 0.6854797\n",
            "Epoch: 0851 cost= 0.077705450 W= 0.2647576 b= 0.69237775\n",
            "Epoch: 0901 cost= 0.077621691 W= 0.2638557 b= 0.6988659\n",
            "Epoch: 0951 cost= 0.077547677 W= 0.26300746 b= 0.70496786\n",
            "Epoch: 1001 cost= 0.077482268 W= 0.26220968 b= 0.71070766\n",
            "Epoch: 1051 cost= 0.077424496 W= 0.26145923 b= 0.7161062\n",
            "Epoch: 1101 cost= 0.077373452 W= 0.2607534 b= 0.72118354\n",
            "Epoch: 1151 cost= 0.077328339 W= 0.26008958 b= 0.725959\n",
            "Epoch: 1201 cost= 0.077288508 W= 0.2594654 b= 0.7304495\n",
            "Epoch: 1251 cost= 0.077253312 W= 0.2588781 b= 0.73467404\n",
            "Epoch: 1301 cost= 0.077222228 W= 0.25832573 b= 0.7386476\n",
            "Epoch: 1351 cost= 0.077194773 W= 0.2578064 b= 0.7423843\n",
            "Epoch: 1401 cost= 0.077170543 W= 0.25731763 b= 0.7458997\n",
            "Epoch: 1451 cost= 0.077149145 W= 0.2568583 b= 0.74920464\n",
            "Epoch: 1501 cost= 0.077130258 W= 0.25642607 b= 0.7523147\n",
            "Epoch: 1551 cost= 0.077113584 W= 0.25601965 b= 0.7552378\n",
            "Epoch: 1601 cost= 0.077098869 W= 0.25563723 b= 0.75798875\n",
            "Epoch: 1651 cost= 0.077085882 W= 0.25527766 b= 0.7605756\n",
            "Epoch: 1701 cost= 0.077074431 W= 0.25493953 b= 0.7630087\n",
            "Epoch: 1751 cost= 0.077064328 W= 0.25462136 b= 0.76529735\n",
            "Epoch: 1801 cost= 0.077055402 W= 0.25432223 b= 0.76744926\n",
            "Epoch: 1851 cost= 0.077047534 W= 0.25404084 b= 0.7694731\n",
            "Epoch: 1901 cost= 0.077040613 W= 0.25377607 b= 0.7713781\n",
            "Epoch: 1951 cost= 0.077034518 W= 0.2535271 b= 0.7731683\n",
            "Optimization Finished!\n",
            "cost= 0.07702921 W= 0.25329778 b= 0.7748193\n"
          ],
          "name": "stdout"
        },
        {
          "output_type": "display_data",
          "data": {
            "image/png": "[encoded data removed]",
            "text/plain": [
              "<Figure size 576x396 with 1 Axes>"
            ]
          },
          "metadata": {
            "tags": []
          }
        }
      ]
    }
  ]
}